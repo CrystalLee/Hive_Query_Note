{
 "cells": [
  {
   "cell_type": "markdown",
   "id": "61ff9f58",
   "metadata": {},
   "source": [
    "# Consistency"
   ]
  },
  {
   "cell_type": "markdown",
   "id": "71f70afb",
   "metadata": {},
   "source": [
    "From [Pep8](https://peps.python.org/pep-0008/#a-foolish-consistency-is-the-hobgoblin-of-little-minds):\n",
    "> A style guide is about consistency. Consistency with this style guide is important. Consistency within a project is more important.\n",
    "> Consistency within one module or function is the most important.</br>\n",
    "> \n",
    ">\n",
    "> However, know when to be inconsistent -- sometimes style guide recommendations just aren't applicable. When in doubt, use your\n",
    "> best judgment. Look at other examples and decide what looks best. And don't hesitate to ask!\n"
   ]
  },
  {
   "cell_type": "markdown",
   "id": "6c60422f",
   "metadata": {},
   "source": [
    "# General Guidance"
   ]
  },
  {
   "cell_type": "markdown",
   "id": "8648e85a",
   "metadata": {},
   "source": [
    "- Do not optimize for fewer lines of code, new lines are cheap but [brain time is expensive](https://www.getdbt.com/blog/write-better-sql-a-defense-of-group-by-1)\n",
    "- Indentation : 4 spaces for Indentation\n",
    "  To ensure that SQL is readable it is important that standards of indentation are followed\n",
    "- Prefer `LOWER(column) LIKE '%match%'` to `column ILIKE '%Match%'`. This lowers the chance of stray capital letters leading to an unexpected result.\n",
    "- Prefer `WHERE` to `HAVING` when either would suffice\n",
    "- Prefer `!=` to `<>`. This is because `!=` is more common in other programming languages and reads like \"not equal\" which is how we're more likely to\n",
    "speak.\n"
   ]
  },
  {
   "cell_type": "markdown",
   "id": "5b201b04",
   "metadata": {},
   "source": [
    "# Reserved Words\n",
    "Always use uppercase for reserved keywords and functions like **SELECT**, **FROM**, **WHERE**, **JOIN**, **AS**, **GROUP BY**, **ORDER BY** or **SUM**, **ROUND**, **CASE WHEN**, **DISTINCT**."
   ]
  },
  {
   "cell_type": "markdown",
   "id": "40f74c29",
   "metadata": {},
   "source": [
    "``` sql\n",
    "-- Good\n",
    "SELECT\n",
    "    ID,\n",
    "    GameName,\n",
    "    GameNameFlow,\n",
    "    LogText,\n",
    "    CASE\n",
    "        WHEN LOWER(GameName) = 'fecebook' THEN 'Meta'\n",
    "        WHEN LOWER(GameName) = 'google' THEN 'Alphabet'\n",
    "        ELSE LOWER(GameName)\n",
    "    END AS name_category\n",
    "FROM\n",
    "    Company\n",
    "WHERE\n",
    "    LOWER(GameNameFlow) RLIKE 'bonus|cash'\n",
    "```"
   ]
  },
  {
   "cell_type": "markdown",
   "id": "f19ecd54",
   "metadata": {},
   "source": [
    "``` sql\n",
    "-- Bad\n",
    "select\n",
    "    ID,\n",
    "    GameName,\n",
    "    GameNameFlow,\n",
    "    LogText,\n",
    "    case when LOWER(GameName) = 'fecebook' then 'Meta'\n",
    "         when LOWER(GameName) = 'google' then 'Alphabet'\n",
    "         else LOWER(GameName)\n",
    "    end name_category\n",
    "from Company\n",
    "where GameNameFlow RLIKE 'bonus|cash'\n",
    "```"
   ]
  },
  {
   "cell_type": "markdown",
   "id": "be21bd6f",
   "metadata": {},
   "source": [
    "# Variable Names"
   ]
  },
  {
   "cell_type": "markdown",
   "id": "fead49a5",
   "metadata": {},
   "source": [
    "1. Use consistent and descriptive identifiers and names.\n",
    "1. Use lower case names with underscores, such as `first_name`. Do not use CamelCase.\n",
    "1. Names must begin with a letter and may not end in an underscore.\n",
    "1. Only use letters, numbers, and underscores in variable names.\n"
   ]
  },
  {
   "cell_type": "markdown",
   "id": "52f4652d",
   "metadata": {},
   "source": [
    "```sql\n",
    "-- All field names should be snake-cased:\n",
    " -- Good\n",
    "SELECT\n",
    "    transactionrequestdatetime AS transaction_request_datetime\n",
    "...\n",
    " -- vs\n",
    " \n",
    " -- BAD\n",
    "SELECT\n",
    "    transactionrequestdatetime AS DeviceCreatedTimestamp\n",
    "...\n",
    "```"
   ]
  },
  {
   "cell_type": "markdown",
   "id": "5576b471",
   "metadata": {},
   "source": [
    "\n",
    "```sql\n",
    "-- Boolean field names should start with has_, is_, or does_:\n",
    " -- Good\n",
    "SELECT\n",
    "    active AS is_active,\n",
    "    banned AS is_banned\n",
    "FROM\n",
    "    souce_db.UserRights\n",
    "    \n",
    " -- vs\n",
    " \n",
    " -- BAD\n",
    "SELECT\n",
    "    active,\n",
    "    banned\n",
    "FROM\n",
    "    souce_db.UserRights\n",
    "```\n"
   ]
  },
  {
   "cell_type": "markdown",
   "id": "a4512304",
   "metadata": {},
   "source": [
    "```sql\n",
    "-- Timestamps should end with _at and should always be in UTC.\n",
    "-- Dates should end with _date.\n",
    "-- When truncating dates name the column in accordance with the truncation.\n",
    "SELECT\n",
    "    transactionrequestdatetime AS tx_at, -- 2020-01-15 12:15:00.00\n",
    "    DATE_FORMAT(transactionrequestdatetime, 'yyyy-MM-dd') AS tx_date -- 2020-01-15\n",
    "    DATE_FORMAT(transactionrequestdatetime, 'yyyy-MM') AS tx_month -- 2020-01\n",
    "FROM\n",
    "    souce_db.Transactions\n",
    "```"
   ]
  },
  {
   "cell_type": "markdown",
   "id": "81207ba4",
   "metadata": {},
   "source": [
    "# Be Explicit\n",
    "When choosing between explicit or implicit syntax, prefer explicit.\n"
   ]
  },
  {
   "cell_type": "markdown",
   "id": "425decdb",
   "metadata": {},
   "source": [
    "## Aliasing\n",
    "Always include the AS keyword when aliasing a variable or table name, it's easier to read when explicit.\n",
    "```sql\n",
    "-- Good\n",
    "SELECT\n",
    " YEAR(CreatedDate) AS created_year,\n",
    " MONTH(CreatedDate) AS created_month,\n",
    " DATE(CreatedDate) AS created_date\n",
    "FROM\n",
    " mobilegambling_reportingview.PlayerAccounts\n",
    "LIMIT\n",
    " 10\n",
    "```"
   ]
  },
  {
   "cell_type": "markdown",
   "id": "3d42bccc",
   "metadata": {},
   "source": [
    "```sql\n",
    "-- Bad\n",
    "SELECT\n",
    "    YEAR(CreatedDate) created_year,\n",
    "    MONTH(CreatedDate) created_month,\n",
    "    DATE(CreatedDate) created_date\n",
    "FROM\n",
    " source_db.Users\n",
    "LIMIT\n",
    " 10\n",
    "```"
   ]
  },
  {
   "cell_type": "markdown",
   "id": "b201c2a0",
   "metadata": {},
   "source": [
    "## Grouping Columns\n",
    "In the previous example, implicit grouping columns were discouraged, but there are cases where it makes sense.\n",
    "In some SQL flavors (such as [Presto](https://prestodb.io/docs/current/sql/select.html)) grouping elements must refer to the expression before any aliasing is done. If you are grouping by a complex expression it may be desirable to use implicit grouping columns rather than repeating the expression."
   ]
  },
  {
   "cell_type": "markdown",
   "id": "cf988853",
   "metadata": {},
   "source": [
    "```sql\n",
    "-- Good\n",
    "-- MySQL SQL Syntax\n",
    "SELECT\n",
    "    AffiliateCategoryID AS affiliate_category_id,\n",
    "    BrandName AS brand_name,\n",
    "    COUNT(DISTINCT AffiliateID) AS affiliate_count\n",
    "FROM\n",
    "    source_db.Affiliates\n",
    "WHERE\n",
    "    Deleted = 0\n",
    "GROUP BY\n",
    "    affiliate_category_id,\n",
    "    brand_name\n",
    "    ;\n",
    "```\n",
    "\n",
    "```sql\n",
    "-- Good\n",
    "-- HIVE SQL Syntax\n",
    "SELECT\n",
    "    IF(countryid = 1, \"UK\", \"Others\") AS country_name,\n",
    "    affiliateid AS affiliate_id,\n",
    "    COUNT(DISTINCT accountid) AS account_count\n",
    "FROM\n",
    "    source_db.Users\n",
    "WHERE\n",
    "    YEAR(createddate) >= 2022\n",
    "GROUP BY\n",
    "    IF(countryid = 1, \"UK\", \"Others\"),\n",
    "    affiliateid -- Grouping by aliases is not supported in HIVE\n",
    " ```\n",
    " \n",
    " \n",
    "```sql\n",
    "-- Bad\n",
    "SELECT\n",
    "    IF(countryid = 1, \"UK\", \"Others\") AS country_name,\n",
    "    affiliateid AS affiliate_id,\n",
    "    COUNT(DISTINCT accountid) AS account_count\n",
    "FROM\n",
    "    source_db.Users\n",
    "WHERE\n",
    "    YEAR(createddate) >= 2022\n",
    "GROUP BY\n",
    "    1,\n",
    "    2 -- Implicit grouping column names\n",
    " ```"
   ]
  },
  {
   "cell_type": "markdown",
   "id": "f08dad3c",
   "metadata": {},
   "source": [
    "## JOIN Reference Conventions\n",
    "- When joining tables and referencing columns from both tables consider the following:\n",
    "- - reference the **full table name** instead of an alias when the table name is shorter, maybe less than 20 characters. (try to rename the CTE if possible, and lastly consider aliasing to something descriptive)\n",
    "- - always qualify each column in the `SELECT` statement with the table name / alias for easy navigation\n",
    "\n",
    "```sql\n",
    "-- Good\n",
    "SELECT\n",
    "    Users.accountid,\n",
    "    Users.affiliateid,\n",
    "    Affiliates.affiliatename,\n",
    "    Users.registereddate,\n",
    "FROM\n",
    "    source_db.Users\n",
    "JOIN\n",
    "    source_db.Affiliates\n",
    "ON\n",
    "    Affiliates.affiliateid = Users.affiliateid\n",
    "```"
   ]
  },
  {
   "cell_type": "markdown",
   "id": "796170f2",
   "metadata": {},
   "source": [
    "```sql \n",
    " -- Bad 1\n",
    "-- Implicit column names\n",
    "SELECT\n",
    "    accountid,\n",
    "    Users.affiliateid,\n",
    "    affiliatename,\n",
    "    registereddate,\n",
    "FROM\n",
    "    source_db.Users\n",
    "JOIN\n",
    "    source_db.Affiliates\n",
    "ON\n",
    "    Affiliates.affiliateid = Users.affiliateid\n",
    "    \n",
    "    \n",
    "-- Bad 2\n",
    "SELECT\n",
    "    a.accountid,\n",
    "    b.affiliateid,\n",
    "    a.affiliatename,\n",
    "    a.registereddate,\n",
    "FROM\n",
    "    source_db.Users AS a\n",
    "JOIN\n",
    "    source_db.Affiliates AS b\n",
    "ON\n",
    "    a.affiliateid = b.affiliateid\n",
    "```"
   ]
  },
  {
   "cell_type": "markdown",
   "id": "8f9816d0",
   "metadata": {},
   "source": [
    "## Left Align Root Keywords\n",
    "Root keywords should all start on the same character boundary. This is counter to the common \"rivers\" pattern described here."
   ]
  },
  {
   "cell_type": "markdown",
   "id": "436f2018",
   "metadata": {},
   "source": [
    "```sql\n",
    "-- Good\n",
    "SELECT\n",
    "    client_id,\n",
    "    submission_date\n",
    "FROM\n",
    "    main_summary\n",
    "WHERE\n",
    "    sample_id = '42'\n",
    "    AND submission_date > '20180101'\n",
    "LIMIT\n",
    "    10\n",
    "    ;\n",
    " \n",
    "-- Bad\n",
    "SELECT client_id,\n",
    "       submission_date\n",
    "FROM   main_summary\n",
    "WHERE  sample_id = '42'\n",
    "  AND  submission_date > '20180101'\n",
    "```"
   ]
  },
  {
   "cell_type": "markdown",
   "id": "021b75ca",
   "metadata": {},
   "source": [
    "## Code Blocks\n",
    "Root keywords should be on their own line. For example:"
   ]
  },
  {
   "cell_type": "markdown",
   "id": "d25e9764",
   "metadata": {},
   "source": [
    "```sql\n",
    "-- Good:\n",
    "SELECT\n",
    "    client_id,\n",
    "    submission_date\n",
    "FROM\n",
    "    main_summary\n",
    "WHERE\n",
    "    submission_date > '20180101'\n",
    "    AND sample_id = '42'\n",
    "LIMIT\n",
    "    10\n",
    "```"
   ]
  },
  {
   "cell_type": "markdown",
   "id": "6ed33d18",
   "metadata": {},
   "source": [
    "Do not include multiple arguments on one line.\n",
    "\n",
    "```sql\n",
    "-- Bad 1\n",
    "SELECT client_id, submission_date\n",
    "FROM main_summary\n",
    "WHERE\n",
    "    submission_date > '20180101'\n",
    "    AND sample_id = '42'\n",
    "LIMIT 10\n",
    "```\n",
    "\n",
    "```sql\n",
    "-- Bad 2\n",
    "SELECT\n",
    "    client_id,\n",
    "    submission_date\n",
    "FROM main_summary\n",
    "WHERE submission_date > '20180101'\n",
    "  AND sample_id = '42'\n",
    "LIMIT 10\n",
    "```"
   ]
  },
  {
   "cell_type": "markdown",
   "id": "24319115",
   "metadata": {},
   "source": [
    "## Parentheses\n",
    "If parentheses span multiple lines:\n",
    "1. The opening parenthesis should terminate the line.\n",
    "1. The closing parenthesis should be lined up under the first character of the line that starts the multi-line construct.\n",
    "1. The contents of the parentheses should be indented one level.\n",
    "\n",
    "```sql\n",
    "-- Good:\n",
    "WITH sample AS (\n",
    "    SELECT\n",
    "        client_id,\n",
    "    FROM\n",
    "        main_summary\n",
    "    WHERE\n",
    "        sample_id = '42'\n",
    ")\n",
    "...\n",
    "```"
   ]
  },
  {
   "cell_type": "markdown",
   "id": "e559c8f6",
   "metadata": {},
   "source": [
    "```sql\n",
    "-- Bad 1 (Terminating parenthesis on shared line)\n",
    "WITH sample AS (\n",
    " SELECT\n",
    " client_id,\n",
    " FROM\n",
    " main_summary\n",
    " WHERE\n",
    " sample_id = '42')\n",
    "```\n",
    "\n",
    "\n",
    "```sql\n",
    "-- Bad 2 (No indent)\n",
    "WITH sample AS (\n",
    "SELECT\n",
    " client_id,\n",
    "FROM\n",
    " main_summary\n",
    "WHERE\n",
    " sample_id = '42'\n",
    ")\n",
    "```"
   ]
  },
  {
   "cell_type": "markdown",
   "id": "0de1b088",
   "metadata": {},
   "source": [
    "## Boolean at the Beginning of Line\n",
    "`AND` and `OR` should always be at the beginning of the line. For example:\n",
    "\n",
    "```sql\n",
    "-- Good:\n",
    "    ...\n",
    "WHERE\n",
    "    submission_date > 20180101\n",
    "    AND sample_id = '42'\n",
    "```"
   ]
  },
  {
   "cell_type": "markdown",
   "id": "4d448a3e",
   "metadata": {},
   "source": [
    "```sql\n",
    "-- Bad\n",
    "    ...\n",
    "WHERE\n",
    "    submission_date > 20180101 AND\n",
    "    sample_id = '42'\n",
    "```"
   ]
  },
  {
   "cell_type": "markdown",
   "id": "84d9df8c",
   "metadata": {},
   "source": [
    "## Nested Queries\n",
    "Do not use nested queries. Instead, use Common Table Expressions (CTEs) to improve readability."
   ]
  },
  {
   "cell_type": "markdown",
   "id": "725b8f6d",
   "metadata": {},
   "source": [
    "\n",
    "```sql\n",
    "-- Good:\n",
    "WITH sample AS (\n",
    "SELECT\n",
    "    client_id,\n",
    "    submission_date\n",
    "FROM\n",
    "    main_summary\n",
    "WHERE\n",
    "    sample_id = '42'\n",
    ")\n",
    "SELECT\n",
    "    *\n",
    "FROM\n",
    "    sample\n",
    "LIMIT\n",
    "    10\n",
    "```\n",
    "\n",
    "\n",
    "```sql\n",
    "-- Bad:\n",
    "SELECT\n",
    "    *\n",
    "FROM (\n",
    " SELECT\n",
    " client_id,\n",
    " submission_date\n",
    " FROM\n",
    " main_summary\n",
    " WHERE\n",
    " sample_id = '42'\n",
    " )\n",
    "LIMIT 10\n",
    "```"
   ]
  },
  {
   "cell_type": "markdown",
   "id": "b1aa7aef",
   "metadata": {},
   "source": [
    "## Example Code\n",
    "This example code has been processed though SQLFluff linter and had the style guide applied.\n",
    "\n",
    "```sql\n",
    "DROP TABLE IF EXISTS source_db.tmp_sql_example;\n",
    "CREATE TEMPORARY TABLE IF NOT EXISTS source_db.tmp_sql_example\n",
    "STORED AS ORC AS\n",
    "WITH tmp_user_history AS (\n",
    "    SELECT\n",
    "        accountid AS account_id,\n",
    "        DATE_FORMAT(actiondate, 'yyyy-MM-dd') AS action_date,\n",
    "        reasondescription AS reason_description\n",
    "    FROM\n",
    "        source_db.UserHistory\n",
    "    WHERE\n",
    "        LOWER(UserHistory.reasondescription) RLIKE 'bad record'\n",
    "        AND LOWER(UserHistory.reasondescription) RLIKE 'scammer'\n",
    "),\n",
    "/*\n",
    "This is a very long comment: It is good practice to leave comments in code to\n",
    "explain complex logic in CTEs or business logic which may not be intuitive to\n",
    "someone who does not have intimate knowledge of the data source. This can help\n",
    "new users familiarize themselves with the code quickly.\n",
    "*/\n",
    "tmp_base AS (\n",
    "SELECT\n",
    "    account_id,\n",
    "    reason_description,\n",
    "    ROW_NUMBER() OVER(PARTITION BY account_id ORDER BY action_date DESC) AS rn\n",
    "FROM\n",
    "    tmp_user_history\n",
    ")\n",
    "SELECT\n",
    "    account_id,\n",
    "    reason_description\n",
    "FROM\n",
    "    tmp_base\n",
    "WHERE\n",
    "    rn = 1\n",
    "     ;\n",
    "```"
   ]
  },
  {
   "cell_type": "markdown",
   "id": "f704120c",
   "metadata": {},
   "source": [
    "# Functions"
   ]
  },
  {
   "cell_type": "markdown",
   "id": "2b4106e7",
   "metadata": {},
   "source": [
    "## Data Types\n",
    "Use default data types and not aliases.\n",
    "```sql\n",
    "-- Good\n",
    "SELECT\n",
    "    DATE_FORMAT(transactionrequestdatetime, 'yyyy-MM') AS tx_month,\n",
    "    DATE_FORMAT(transactionrequestdatetime, 'yyyy-MM-dd') AS tx_date,\n",
    "    transactionrequestdatetime AS AS tx_at\n",
    "FROM\n",
    "    source_db.Transactions\n",
    "LIMIT\n",
    "    10\n",
    "```\n",
    "\n",
    "```sql\n",
    "-- Bad\n",
    "SELECT\n",
    "    SUBSTR(transactionrequestdatetime, 1, 7) AS tx_month,\n",
    "    SUBSTR(transactionrequestdatetime, 1, 10) AS tx_date,\n",
    "    transactionrequestdatetime\n",
    "FROM\n",
    "    source_db.Transactions\n",
    "LIMIT\n",
    "    10\n",
    "```\n",
    "\n",
    "result\n",
    "\n",
    "| tx_month | tx_date | tx_at |\n",
    "| ----------- | ----------- | ----------- |\n",
    "| 2008-06 | 2008-06-24 | 2008-06-24 12:53:33| \n"
   ]
  },
  {
   "cell_type": "markdown",
   "id": "8c09bb26",
   "metadata": {},
   "source": [
    "# Reference\n",
    "- Gitlab handbook : https://about.gitlab.com/handbook/business-technology/data-team/platform/sql-style-guide/\n",
    "- Mozilla Data Documentation : https://docs.telemetry.mozilla.org/concepts/sql_style.html"
   ]
  }
 ],
 "metadata": {
  "kernelspec": {
   "display_name": "Python 3",
   "language": "python",
   "name": "python3"
  },
  "language_info": {
   "codemirror_mode": {
    "name": "ipython",
    "version": 3
   },
   "file_extension": ".py",
   "mimetype": "text/x-python",
   "name": "python",
   "nbconvert_exporter": "python",
   "pygments_lexer": "ipython3",
   "version": "3.8.8"
  }
 },
 "nbformat": 4,
 "nbformat_minor": 5
}
